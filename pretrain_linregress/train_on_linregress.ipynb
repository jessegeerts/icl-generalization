{
 "cells": [
  {
   "cell_type": "code",
   "execution_count": 14,
   "metadata": {
    "collapsed": true,
    "ExecuteTime": {
     "end_time": "2025-04-02T13:02:45.406807Z",
     "start_time": "2025-04-02T13:02:45.400107Z"
    }
   },
   "outputs": [],
   "source": [
    "import jax\n",
    "import jax.numpy as jnp\n",
    "import torch\n",
    "from pretrain_linregress.data import create_reg_data_classic_token, create_reg_data_classic_token_torch\n",
    "from jax import vmap"
   ]
  },
  {
   "cell_type": "code",
   "execution_count": 19,
   "outputs": [],
   "source": [
    "rng = jax.random.PRNGKey(0)\n",
    "\n",
    "i_size = 10\n",
    "c_size = 10\n",
    "size_distract = 0\n",
    "input_range = 1\n",
    "w_scale = 1\n",
    "bs = 128\n",
    "inputs, targets, w = create_reg_data_classic_token(rng, i_size, c_size, size_distract, input_range, w_scale)"
   ],
   "metadata": {
    "collapsed": false,
    "ExecuteTime": {
     "end_time": "2025-04-02T13:04:12.726184Z",
     "start_time": "2025-04-02T13:04:12.720861Z"
    }
   }
  },
  {
   "cell_type": "code",
   "execution_count": 20,
   "outputs": [],
   "source": [
    "data_creator = vmap(create_reg_data_classic_token,\n",
    "                    in_axes=(0, None, None, None, None, None),\n",
    "                    out_axes=0)\n"
   ],
   "metadata": {
    "collapsed": false,
    "ExecuteTime": {
     "end_time": "2025-04-02T13:04:12.982797Z",
     "start_time": "2025-04-02T13:04:12.963175Z"
    }
   }
  },
  {
   "cell_type": "code",
   "execution_count": 24,
   "outputs": [],
   "source": [
    "train_data, train_target, train_w = data_creator(jax.random.split(rng, num=bs),\n",
    "                          i_size,\n",
    "                          c_size,\n",
    "                          size_distract,\n",
    "                          input_range,\n",
    "                          w_scale)\n",
    "\n",
    "\n"
   ],
   "metadata": {
    "collapsed": false,
    "ExecuteTime": {
     "end_time": "2025-04-02T13:04:45.523593Z",
     "start_time": "2025-04-02T13:04:45.516144Z"
    }
   }
  },
  {
   "cell_type": "code",
   "execution_count": 29,
   "outputs": [
    {
     "ename": "AttributeError",
     "evalue": "'ArrayImpl' object has no attribute 'numpy'",
     "output_type": "error",
     "traceback": [
      "\u001B[0;31m---------------------------------------------------------------------------\u001B[0m",
      "\u001B[0;31mAttributeError\u001B[0m                            Traceback (most recent call last)",
      "Cell \u001B[0;32mIn[29], line 1\u001B[0m\n\u001B[0;32m----> 1\u001B[0m \u001B[43mtrain_data\u001B[49m\u001B[38;5;241;43m.\u001B[39;49m\u001B[43mnumpy\u001B[49m()\n",
      "\u001B[0;31mAttributeError\u001B[0m: 'ArrayImpl' object has no attribute 'numpy'"
     ]
    }
   ],
   "source": [],
   "metadata": {
    "collapsed": false,
    "ExecuteTime": {
     "end_time": "2025-04-02T13:05:06.100033Z",
     "start_time": "2025-04-02T13:05:06.093142Z"
    }
   }
  },
  {
   "cell_type": "code",
   "execution_count": 27,
   "outputs": [],
   "source": [],
   "metadata": {
    "collapsed": false,
    "ExecuteTime": {
     "end_time": "2025-04-02T13:04:57.579072Z",
     "start_time": "2025-04-02T13:04:57.568546Z"
    }
   }
  },
  {
   "cell_type": "code",
   "execution_count": null,
   "outputs": [],
   "source": [],
   "metadata": {
    "collapsed": false
   }
  }
 ],
 "metadata": {
  "kernelspec": {
   "display_name": "Python 3",
   "language": "python",
   "name": "python3"
  },
  "language_info": {
   "codemirror_mode": {
    "name": "ipython",
    "version": 2
   },
   "file_extension": ".py",
   "mimetype": "text/x-python",
   "name": "python",
   "nbconvert_exporter": "python",
   "pygments_lexer": "ipython2",
   "version": "2.7.6"
  }
 },
 "nbformat": 4,
 "nbformat_minor": 0
}
