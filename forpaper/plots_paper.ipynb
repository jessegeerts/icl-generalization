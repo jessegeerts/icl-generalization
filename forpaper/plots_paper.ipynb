{
 "cells": [
  {
   "cell_type": "code",
   "execution_count": null,
   "metadata": {
    "ExecuteTime": {
     "end_time": "2025-05-12T12:05:14.491536Z",
     "start_time": "2025-05-12T12:05:14.486955Z"
    }
   },
   "outputs": [],
   "source": [
    "import numpy as np\n",
    "import matplotlib.pyplot as plt\n",
    "import pandas as pd\n",
    "import seaborn as sns\n",
    "import os\n",
    "from definitions import ROOT_FOLDER"
   ]
  },
  {
   "cell_type": "code",
   "execution_count": null,
   "metadata": {
    "ExecuteTime": {
     "end_time": "2025-05-02T13:46:36.813076Z",
     "start_time": "2025-05-02T13:46:36.789774Z"
    }
   },
   "outputs": [],
   "source": []
  },
  {
   "cell_type": "code",
   "execution_count": null,
   "metadata": {
    "ExecuteTime": {
     "end_time": "2025-05-12T12:05:40.604690Z",
     "start_time": "2025-05-12T12:05:40.385321Z"
    }
   },
   "outputs": [],
   "source": [
    "data_dir = os.path.join(ROOT_FOLDER, 'forpaper')\n",
    "df = pd.read_csv(os.path.join(ROOT_FOLDER, 'train_loss.csv'))\n",
    "\n",
    "# Assuming your dataframe is called df\n",
    "prefix = 'cat_I40001_K1024_N12_L32_D63_a0.0_B1_pB1.0_pC1.0_eps0_lr0.01_drop0.0_custom_lnFalse_wDecay1e-07_adam - '\n",
    "\n",
    "# Create a mapping for renaming columns\n",
    "rename_dict = {}\n",
    "for col in df.columns:\n",
    "    if col != 'iter' and col.startswith(prefix):\n",
    "        rename_dict[col] = col.replace(prefix, '')\n",
    "\n",
    "# Apply the renaming\n",
    "df = df.rename(columns=rename_dict)"
   ]
  },
  {
   "cell_type": "code",
   "execution_count": null,
   "metadata": {
    "ExecuteTime": {
     "end_time": "2025-05-02T13:49:07.882471Z",
     "start_time": "2025-05-02T13:49:07.878217Z"
    }
   },
   "outputs": [],
   "source": [
    "df"
   ]
  },
  {
   "cell_type": "code",
   "execution_count": null,
   "metadata": {
    "ExecuteTime": {
     "end_time": "2025-05-02T13:49:22.447317Z",
     "start_time": "2025-05-02T13:49:22.316443Z"
    }
   },
   "outputs": [],
   "source": [
    "df.plot(x='iter', y='train_loss')"
   ]
  },
  {
   "cell_type": "code",
   "execution_count": null,
   "metadata": {
    "ExecuteTime": {
     "end_time": "2025-05-06T10:06:07.742910Z",
     "start_time": "2025-05-06T10:06:07.724793Z"
    }
   },
   "outputs": [],
   "source": [
    "df = pd.read_csv('ti_accuracy.csv')\n",
    "\n",
    "# Assuming your dataframe is called df\n",
    "prefix = 'cat_I40001_K1024_N12_L32_D63_a0.0_B1_pB1.0_pC1.0_eps0_lr0.01_drop0.0_custom_lnFalse_wDecay1e-07_adam - '\n",
    "\n",
    "# Create a mapping for renaming columns\n",
    "rename_dict = {}\n",
    "for col in df.columns:\n",
    "    if col != 'iter' and col.startswith(prefix):\n",
    "        rename_dict[col] = col.replace(prefix, '')\n",
    "\n",
    "# Apply the renaming\n",
    "df = df.rename(columns=rename_dict)"
   ]
  },
  {
   "cell_type": "code",
   "execution_count": null,
   "metadata": {
    "ExecuteTime": {
     "end_time": "2025-05-06T10:06:28.897446Z",
     "start_time": "2025-05-06T10:06:28.791325Z"
    }
   },
   "outputs": [],
   "source": [
    "df.plot(x='iter', y='ti_accuracy')\n"
   ]
  },
  {
   "cell_type": "code",
   "execution_count": null,
   "metadata": {
    "ExecuteTime": {
     "end_time": "2025-05-06T10:38:11.341960Z",
     "start_time": "2025-05-06T10:38:11.318266Z"
    }
   },
   "outputs": [],
   "source": [
    "df = pd.read_csv('induction_strength.csv')\n",
    "\n",
    "# Assuming your dataframe is called df\n",
    "prefix = 'cat_I40001_K1024_N12_L32_D63_a0.0_B1_pB1.0_pC1.0_eps0_lr0.01_drop0.0_custom_lnFalse_wDecay1e-07_adam - '\n",
    "\n",
    "# Create a mapping for renaming columns\n",
    "rename_dict = {}\n",
    "for col in df.columns:\n",
    "    if col != 'iter' and col.startswith(prefix):\n",
    "        rename_dict[col] = col.replace(prefix, '')\n",
    "\n",
    "# Apply the renaming\n",
    "df = df.rename(columns=rename_dict)"
   ]
  },
  {
   "cell_type": "code",
   "execution_count": null,
   "metadata": {
    "ExecuteTime": {
     "end_time": "2025-05-06T10:39:21.680739Z",
     "start_time": "2025-05-06T10:39:21.532852Z"
    }
   },
   "outputs": [],
   "source": [
    "df.plot(x='iter', y=['induction_strength_TI_head_0', 'induction_strength_TI_head_1', 'induction_strength_TI_head_2', 'induction_strength_TI_head_3', 'induction_strength_TI_head_4', 'induction_strength_TI_head_5', 'induction_strength_TI_head_6', 'induction_strength_TI_head_7'])\n"
   ]
  },
  {
   "cell_type": "code",
   "execution_count": null,
   "metadata": {
    "ExecuteTime": {
     "end_time": "2025-05-06T10:38:18.719486Z",
     "start_time": "2025-05-06T10:38:18.710305Z"
    }
   },
   "outputs": [],
   "source": [
    "df.columns"
   ]
  },
  {
   "cell_type": "markdown",
   "metadata": {
    "collapsed": false
   },
   "source": []
  },
  {
   "cell_type": "code",
   "execution_count": null,
   "metadata": {},
   "outputs": [],
   "source": []
  },
  {
   "cell_type": "markdown",
   "metadata": {
    "collapsed": false
   },
   "source": []
  }
 ],
 "metadata": {
  "kernelspec": {
   "display_name": "Python 3",
   "language": "python",
   "name": "python3"
  },
  "language_info": {
   "codemirror_mode": {
    "name": "ipython",
    "version": 2
   },
   "file_extension": ".py",
   "mimetype": "text/x-python",
   "name": "python",
   "nbconvert_exporter": "python",
   "pygments_lexer": "ipython2",
   "version": "2.7.6"
  }
 },
 "nbformat": 4,
 "nbformat_minor": 0
}
