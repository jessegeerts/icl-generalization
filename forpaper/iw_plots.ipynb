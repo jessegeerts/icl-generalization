{
 "cells": [
  {
   "cell_type": "code",
   "execution_count": null,
   "metadata": {
    "ExecuteTime": {
     "end_time": "2025-05-14T09:26:22.087826Z",
     "start_time": "2025-05-14T09:25:19.138806Z"
    }
   },
   "outputs": [],
   "source": [
    "from ti_experiments.train_model_concat_ti import main\n",
    "\n",
    "import torch\n",
    "import numpy as np\n",
    "import matplotlib.pyplot as plt\n",
    "import seaborn as sns\n",
    "import os\n",
    "from models import Transformer\n",
    "from ti_experiments.configs.cfg_iw import config as default_config\n",
    "from ti_experiments.train_model_concat_ti import eval_at_all_distances\n",
    "from itertools import product\n",
    "from sklearn.decomposition import PCA\n",
    "from plotting_utils import TI_per_pair_plot\n",
    "import adjustText\n",
    "\n",
    "sns.set_context(\"paper\", font_scale=3)\n",
    "\n",
    "metrics = main(default_config, wandb_proj='iw_transinf', seed=42)\n",
    "\n",
    "iters = np.arange(0, default_config.train.niters, default_config.log.logging_interval)\n",
    "\n"
   ]
  },
  {
   "cell_type": "code",
   "execution_count": null,
   "metadata": {
    "ExecuteTime": {
     "end_time": "2025-05-14T09:26:26.200519Z",
     "start_time": "2025-05-14T09:26:25.922925Z"
    }
   },
   "outputs": [],
   "source": [
    "fig, ax = plt.subplots()\n",
    "plt.plot(iters, metrics['loss'])\n",
    "plt.ylabel('Loss')\n",
    "plt.xlabel('Training steps')\n",
    "plt.tight_layout()\n",
    "plt.savefig('loss.png')\n",
    "plt.show()\n",
    "\n",
    "fig, ax = plt.subplots()\n",
    "plt.plot(iters, metrics['holdout_accuracy'])\n",
    "plt.ylabel('Accuracy (adjacent queries)')\n",
    "plt.xlabel('Training steps')\n",
    "plt.tight_layout()\n",
    "plt.savefig('accuracy.png')\n",
    "plt.show()\n"
   ]
  },
  {
   "cell_type": "code",
   "execution_count": null,
   "metadata": {
    "ExecuteTime": {
     "end_time": "2025-05-14T09:26:27.366972Z",
     "start_time": "2025-05-14T09:26:27.032186Z"
    }
   },
   "outputs": [],
   "source": [
    "\n",
    "\n",
    "\n",
    "cfg = default_config\n",
    "cfg.log.log_to_wandb = False\n",
    "device = torch.device('cuda' if torch.cuda.is_available() else 'cpu')\n",
    "\n",
    "cfg.model.out_dim = 1\n",
    "model_dir = '/Users/jessegeerts/Projects/icl-generalization/checkpoints/iw_transinf/uuh8wjk6/'\n",
    "model_path = os.path.join(model_dir, 'model_5000.pt')\n",
    "if not os.path.exists(model_path):\n",
    "    raise FileNotFoundError(f\"Model file not found: {model_path}\")\n",
    "items = torch.load(os.path.join(model_dir, 'fixed_items.pt'))\n",
    "\n",
    "model = Transformer(config=default_config.model)\n",
    "model.load_state_dict(torch.load(model_path))\n",
    "model.eval()\n",
    "\n",
    "correct_matrix, holdout_batch, pred_matrix, ranks, model_activations = eval_at_all_distances(cfg,\n",
    "                                                                                             device,\n",
    "                                                                                             model,\n",
    "                                                                                             5000,\n",
    "                                                                                             get_hiddens=True,\n",
    "                                                                                             leave_one_out=True,\n",
    "                                                                                             items=items)\n",
    "\n",
    "# Example ranks\n",
    "item_labels = ['A', 'B', 'C', 'D', 'E', 'F', 'G']  # Replace with your actual ranks\n",
    "\n",
    "# Generate the labels for off-diagonal elements\n",
    "labels = []\n",
    "symb_distance = []\n",
    "for i, j in product(ranks, ranks):\n",
    "    if i == j:\n",
    "        continue  # Skip diagonal elements (AA, BB, etc.)\n",
    "    label = item_labels[i] + item_labels[j]  # Concatenate to form labels like 'AB', 'AC', etc.\n",
    "    labels.append(label)\n",
    "    symb_distance.append(i-j)\n",
    "\n",
    "\n",
    "len(model_activations)\n",
    "\n",
    "final_token_activations = [model_activations[i]['hidden_activations'][-1].mean(axis=0)[-1].detach() for i in range(len(model_activations))]\n",
    "final_token_activations = np.array([np.array(i) for i in final_token_activations])\n",
    "\n",
    "\n",
    "pca = PCA(n_components=2)  # Reduce to 2 dimensions for visualization\n",
    "X_pca = pca.fit_transform(final_token_activations)  # Shape: [P, 2]\n",
    "\n",
    "plt.figure(figsize=(10, 8))\n",
    "plt.scatter(X_pca[:, 0], X_pca[:, 1], c=symb_distance, cmap='coolwarm', s=100)\n",
    "\n",
    "# Add labels for each point\n",
    "for i, inp in enumerate(labels):\n",
    "    plt.annotate(inp, (X_pca[i, 0], X_pca[i, 1]))\n",
    "\n",
    "plt.xlabel('PC1')\n",
    "plt.ylabel('PC2')\n",
    "plt.title('PCA of final layer Query Token Representations')\n",
    "plt.grid(True)\n",
    "plt.show()\n"
   ]
  },
  {
   "cell_type": "code",
   "execution_count": null,
   "metadata": {
    "ExecuteTime": {
     "end_time": "2025-05-14T09:26:27.679110Z",
     "start_time": "2025-05-14T09:26:27.677053Z"
    }
   },
   "outputs": [],
   "source": [
    "explained_variance = pca.explained_variance_ratio_\n",
    "print(f\"Variance explained by PC1: {explained_variance[0]:.4f} ({explained_variance[0]*100:.2f}%)\")\n",
    "print(f\"Variance explained by PC2: {explained_variance[1]:.4f} ({explained_variance[1]*100:.2f}%)\")\n",
    "print(f\"Total variance explained: {sum(explained_variance):.4f} ({sum(explained_variance)*100:.2f}%)\")\n",
    "\n"
   ]
  },
  {
   "cell_type": "code",
   "execution_count": null,
   "metadata": {
    "ExecuteTime": {
     "end_time": "2025-05-14T09:26:29.637086Z",
     "start_time": "2025-05-14T09:26:29.464949Z"
    }
   },
   "outputs": [],
   "source": [
    "TI_per_pair_plot(pred_matrix)"
   ]
  },
  {
   "cell_type": "code",
   "execution_count": null,
   "metadata": {
    "ExecuteTime": {
     "end_time": "2025-05-14T09:29:30.543038Z",
     "start_time": "2025-05-14T09:29:28.960140Z"
    }
   },
   "outputs": [],
   "source": [
    "sns.set_context(\"paper\", font_scale=3, rc={\"lines.linewidth\": 3})\n",
    "\n",
    "fig, axs = plt.subplots(2, 2, figsize=(15, 10))\n",
    "axs = axs.flatten()\n",
    "\n",
    "axs[0].plot(iters, metrics['loss'])\n",
    "axs[0].set_ylabel('Loss')\n",
    "axs[0].set_xlabel('Training steps')\n",
    "\n",
    "TI_per_pair_plot(pred_matrix, ax=axs[1])\n",
    "axs[1].tick_params(axis='x', labelsize=14)  # x-axis tick labels\n",
    "axs[1].set_title('Predictions by Symbolic Distance')\n",
    "\n",
    "axs[2].plot(iters, metrics['holdout_accuracy'])\n",
    "axs[2].set_ylabel('Accuracy (training)')\n",
    "axs[2].set_xlabel('Training steps')\n",
    "\n",
    "plt.sca(axs[3])\n",
    "axs[3].scatter(X_pca[:, 0], X_pca[:, 1], c=symb_distance, cmap='coolwarm', s=100)\n",
    "\n",
    "# Add labels for each point\n",
    "txts = []\n",
    "for i, inp in enumerate(labels):\n",
    "    txt = plt.annotate(inp, (X_pca[i, 0], X_pca[i, 1]), fontsize=15)\n",
    "    txts.append(txt)\n",
    "\n",
    "plt.xlabel('PC1')\n",
    "plt.ylabel('PC2')\n",
    "plt.title('PCA of L2 Query Representations')\n",
    "\n",
    "adjustText.adjust_text(txts)\n",
    "plt.tight_layout()\n",
    "\n",
    "plt.savefig('iw_transinf.pdf')"
   ]
  },
  {
   "cell_type": "code",
   "execution_count": null,
   "metadata": {
    "ExecuteTime": {
     "end_time": "2025-05-14T09:26:30.721298Z",
     "start_time": "2025-05-14T09:26:30.714372Z"
    }
   },
   "outputs": [],
   "source": []
  },
  {
   "cell_type": "code",
   "execution_count": null,
   "metadata": {
    "ExecuteTime": {
     "end_time": "2025-05-23T06:44:20.450027Z",
     "start_time": "2025-05-23T06:44:20.448164Z"
    }
   },
   "outputs": [],
   "source": [
    "# train N times"
   ]
  },
  {
   "cell_type": "code",
   "execution_count": null,
   "metadata": {},
   "outputs": [],
   "source": []
  }
 ],
 "metadata": {
  "kernelspec": {
   "display_name": "Python 3",
   "language": "python",
   "name": "python3"
  },
  "language_info": {
   "codemirror_mode": {
    "name": "ipython",
    "version": 2
   },
   "file_extension": ".py",
   "mimetype": "text/x-python",
   "name": "python",
   "nbconvert_exporter": "python",
   "pygments_lexer": "ipython2",
   "version": "2.7.6"
  }
 },
 "nbformat": 4,
 "nbformat_minor": 0
}
